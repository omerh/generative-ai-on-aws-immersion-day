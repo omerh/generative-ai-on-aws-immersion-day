{
 "cells": [
  {
   "attachments": {},
   "cell_type": "markdown",
   "metadata": {},
   "source": [
    "# Pre-requisite  "
   ]
  },
  {
   "cell_type": "code",
   "execution_count": null,
   "metadata": {},
   "outputs": [],
   "source": [
    "!pip install --upgrade -q boto3 langchain sagemaker-studio-image-build aws-sam-cli tqdm"
   ]
  },
  {
   "attachments": {},
   "cell_type": "markdown",
   "metadata": {},
   "source": [
    "# Workshop variables"
   ]
  },
  {
   "cell_type": "code",
   "execution_count": 31,
   "metadata": {},
   "outputs": [],
   "source": [
    "name=\"gen-ai-workshop\"\n",
    "jumpstart_model = \"huggingface-llm-falcon-7b-instruct-bf16\"\n",
    "endpoint_name=f\"{name}-endpoint\""
   ]
  },
  {
   "cell_type": "code",
   "execution_count": null,
   "metadata": {},
   "outputs": [],
   "source": [
    "import boto3\n",
    "\n",
    "\n",
    "aws_region = boto3.Session().region_name\n",
    "aws_account_id = boto3.client('sts').get_caller_identity().get('Account')"
   ]
  },
  {
   "attachments": {},
   "cell_type": "markdown",
   "metadata": {},
   "source": [
    "# Launch Kendra Index\n",
    "\n",
    "Kendra will be the RAG endpoint, that will store our documents, for RAG prompt engineering.\n",
    "\n",
    "We will first create a role for Kendra"
   ]
  },
  {
   "cell_type": "code",
   "execution_count": null,
   "metadata": {},
   "outputs": [],
   "source": [
    "import boto3\n",
    "import json\n",
    "\n",
    "iam_client = boto3.client('iam')\n",
    "\n",
    "kendra_trust_policy = {\n",
    "    \"Version\": \"2012-10-17\",\n",
    "    \"Statement\": [{\n",
    "        \"Effect\": \"Allow\",\n",
    "        \"Principal\": {\n",
    "            \"Service\": \"kendra.amazonaws.com\"\n",
    "        },\n",
    "        \"Action\": \"sts:AssumeRole\"\n",
    "        }]\n",
    "    }\n",
    "\n",
    "policy_cloudwatch_arn = \"arn:aws:iam::aws:policy/CloudWatchLogsFullAccess\"\n",
    "\n",
    "try:\n",
    "    response =iam_client.get_role(RoleName=f\"kendra-{name}-role\")\n",
    "    print(f\"kendra-{name}-role Role already exists\")\n",
    "except:\n",
    "    response = iam_client.create_role(\n",
    "        RoleName=f\"kendra-{name}-role\",\n",
    "        AssumeRolePolicyDocument=json.dumps(kendra_trust_policy),\n",
    "    )\n",
    "    print(f\"Created the role kendra-{name}-role\")\n",
    "    \n",
    "kendra_role_arn = response[\"Role\"][\"Arn\"]\n",
    "\n",
    "try:\n",
    "    response = iam_client.attach_role_policy(\n",
    "        RoleName=f\"kendra-{name}-role\",\n",
    "        PolicyArn=policy_cloudwatch_arn\n",
    "    )\n",
    "except:\n",
    "    print(f\"Policy already attached to role kendra-{name}-role\")\n",
    " \n"
   ]
  },
  {
   "cell_type": "code",
   "execution_count": null,
   "metadata": {},
   "outputs": [],
   "source": [
    "kendra_client = boto3.client(\"kendra\")\n",
    "\n",
    "def list_kendra_indices(kendra_client):\n",
    "    kendra_indices = kendra_client.list_indices()\n",
    "    return kendra_indices[\"IndexConfigurationSummaryItems\"]\n",
    "\n",
    "\n",
    "def find_index_id_according_to_tag(kendra_client, indices, aws_region, aws_account_id):\n",
    "    for k_index in indices:\n",
    "        describe_index_tags_response = kendra_client.list_tags_for_resource(\n",
    "            ResourceARN=f\"arn:aws:kendra:{aws_region}:{aws_account_id}:index/{k_index['Id']}\"\n",
    "        )\n",
    "        for tag in describe_index_tags_response[\"Tags\"]:\n",
    "            if tag[\"Key\"] == \"workshop\" and tag[\"Value\"] == \"gen-ai\":\n",
    "                return k_index['Id']\n",
    "    return None\n",
    "\n",
    "\n",
    "def create_kendra_index(kendra_client):\n",
    "    kendra_index_response = kendra_client.create_index(\n",
    "        Name=f\"{name}-index\",\n",
    "        Edition=\"DEVELOPER_EDITION\",\n",
    "        RoleArn=kendra_role_arn,\n",
    "        Tags=[{\n",
    "            'Key': 'workshop',\n",
    "            'Value': 'gen-ai'\n",
    "            }]\n",
    "    )\n",
    "    kendra_index_id = kendra_index_response[\"Id\"]\n",
    "    return kendra_index_id\n",
    "\n",
    "\n",
    "# Creating Kendra index\n",
    "kendra_indices = list_kendra_indices(kendra_client)\n",
    "if len(kendra_indices) > 0:\n",
    "    kendra_index_id = find_index_id_according_to_tag(kendra_client, kendra_indices, aws_region, aws_account_id)\n",
    "    if kendra_index_id is None:\n",
    "        # you have indices but not tagged with workshop=gen-ai\n",
    "        kendra_index_id = create_kendra_index(kendra_client)\n",
    "else:\n",
    "    create_kendra_index(kendra_client)\n",
    "\n",
    "\n",
    "print(kendra_index_id)\n"
   ]
  },
  {
   "cell_type": "markdown",
   "metadata": {},
   "source": [
    "## LLM Endpoint provisioning\n",
    "\n",
    "Now we will deploy LLM Model Falcon 7B instruct using SageMaker sdk `JumpstartModel` class, that will do all the heavy lifting configuring the endpoint in Amazon SageMaker."
   ]
  },
  {
   "cell_type": "code",
   "execution_count": null,
   "metadata": {},
   "outputs": [],
   "source": [
    "from sagemaker import get_execution_role\n",
    "\n",
    "\n",
    "try:\n",
    "    sm_execution_role = get_execution_role()\n",
    "except:\n",
    "    # To work locally use explicit role\n",
    "    sm_execution_role = \"arn:aws:iam::910416587115:role/SageMaker-Role-Full\"\n",
    "\n",
    "print(sm_execution_role)"
   ]
  },
  {
   "cell_type": "code",
   "execution_count": 34,
   "metadata": {},
   "outputs": [
    {
     "name": "stderr",
     "output_type": "stream",
     "text": [
      "Couldn't call 'get_role' to get Role ARN from role name omer to get Role path.\n"
     ]
    },
    {
     "name": "stdout",
     "output_type": "stream",
     "text": [
      "An error occurred (ValidationException) when calling the CreateEndpointConfig operation: Cannot create already existing endpoint configuration \"arn:aws:sagemaker:eu-west-1:910416587115:endpoint-config/gen-ai-workshop-falcon-7b-instruct\".\n",
      "\n",
      "Please make sure that you dont have in your account an endpoint or endpoint configuration with name gen-ai-workshop-falcon-7b-instruct\n",
      "\n",
      "          Endpoint configuration: Check at https://eu-west-1.console.aws.amazon.com/sagemaker/home?region=eu-west-1#/endpointConfig\n",
      "          Endpoint: Check at https://eu-west-1.console.aws.amazon.com/sagemaker/home?region=eu-west-1#/endpoints/ \n",
      "          \n",
      "          If the endpoint is already running, you may continue the workshop and use it.\n",
      "          \n"
     ]
    }
   ],
   "source": [
    "from sagemaker.jumpstart.model import JumpStartModel\n",
    "\n",
    "\n",
    "jumpstart_model_id = \"huggingface-textgeneration-falcon-7b-instruct-bf16\"\n",
    "sagemaker_endpoint_name = f\"{name}-falcon-7b-instruct\"\n",
    "\n",
    "\n",
    "try:\n",
    "    model = JumpStartModel(model_id=jumpstart_model_id, model_version=\"1.0.0\", role=sm_execution_role)\n",
    "    model.deploy(endpoint_name=f\"{sagemaker_endpoint_name}\", wait=False)\n",
    "except Exception as e:\n",
    "    print(e)\n",
    "    print(f\"\"\"\\nPlease make sure that you dont have in your account an endpoint or endpoint configuration with name {sagemaker_endpoint_name}\\n\n",
    "          Endpoint configuration: Check at https://{aws_region}.console.aws.amazon.com/sagemaker/home?region={aws_region}#/endpointConfig\n",
    "          Endpoint: Check at https://{aws_region}.console.aws.amazon.com/sagemaker/home?region={aws_region}#/endpoints/ \n",
    "          \n",
    "          If the endpoint is already running, you may continue the workshop and use it.\n",
    "          \"\"\")\n",
    "    \n",
    "    "
   ]
  },
  {
   "cell_type": "markdown",
   "metadata": {},
   "source": [
    "# Build the backend lambda, and API Gateway\n",
    "\n",
    "By now, we have launch Amazon Kendra, and Falcon LLM, using Amazon SageMaker endpoint.\n",
    "\n",
    "Now we will build the Backend lambda, using [AWS Serverless Application Model](https://aws.amazon.com/serverless/sam/) (SAM), an open-source framework for building serverless applications.\n",
    "\n",
    "The lambda code [rag_app](/lab4/rag_app/) contains couple of environment variables that help us control the lambda behavior.\n"
   ]
  },
  {
   "cell_type": "markdown",
   "metadata": {},
   "source": [
    "## Build the container image for frontend chatbot application\n",
    "\n",
    "While using Sagemaker studio, using `sagemaker-studio-image-build` we can trigger a docker build leveraging [AWS CodeBuild](https://aws.amazon.com/codebuild/)\n",
    "\n",
    "We will start by adding appropriate roles to SageMaker execution role, to allow triggering the build job."
   ]
  },
  {
   "cell_type": "code",
   "execution_count": null,
   "metadata": {},
   "outputs": [],
   "source": [
    "import boto3\n",
    "\n",
    "sm_execution_role_name = sm_execution_role.split(\"/\")[-1]\n",
    "\n",
    "with open(\"codebuild-policy.json\") as f:\n",
    "    code_build_policy_document = f.read()\n",
    "\n",
    "iam_client = boto3.client(\"iam\")\n",
    "\n",
    "try:\n",
    "    policy_response = iam_client.create_policy(\n",
    "        PolicyName=f\"codebuild-policy-sm-docker-build\",\n",
    "        PolicyDocument=code_build_policy_document\n",
    "    )\n",
    "    code_build_policy_arn = policy_response['Policy']['Arn']\n",
    "except:\n",
    "    print(\"Policy exists\")\n",
    "    code_build_policy_arn = f\"arn:aws:iam::{aws_account_id}:policy/codebuild-policy-sm-docker-build\"\n",
    "    \n",
    "\n",
    "attach_response = iam_client.attach_role_policy(\n",
    "    RoleName=sm_execution_role_name,\n",
    "    PolicyArn=code_build_policy_arn\n",
    ")\n",
    "\n",
    "codebuild_trust_policy = {\n",
    "     \"Version\": \"2012-10-17\",\n",
    "    \"Statement\": [\n",
    "        {\n",
    "            \"Effect\": \"Allow\",\n",
    "            \"Principal\": {\n",
    "                \"Service\": \"sagemaker.amazonaws.com\"\n",
    "            },\n",
    "            \"Action\": \"sts:AssumeRole\"\n",
    "        },\n",
    "        {\n",
    "            \"Effect\": \"Allow\",\n",
    "            \"Principal\": {\n",
    "                \"Service\": [\n",
    "                    \"codebuild.amazonaws.com\" \n",
    "                ]\n",
    "            },\n",
    "            \"Action\": \"sts:AssumeRole\"\n",
    "        }\n",
    "    ]\n",
    "}\n",
    "\n",
    "response = iam_client.update_assume_role_policy(\n",
    "    RoleName=sm_execution_role_name,\n",
    "    PolicyDocument=json.dumps(codebuild_trust_policy)\n",
    ")"
   ]
  },
  {
   "cell_type": "markdown",
   "metadata": {},
   "source": [
    "Now that we have configured SageMaker execution role, we can trigger a build job to build the frontend chatbot application that was built using [`streamlit`](https://streamlit.io/)."
   ]
  },
  {
   "cell_type": "code",
   "execution_count": null,
   "metadata": {},
   "outputs": [],
   "source": [
    "!cd fe && sm-docker build --role $sm_execution_role_name --repository gen-ai-streamlit-fe:latest ."
   ]
  },
  {
   "cell_type": "markdown",
   "metadata": {},
   "source": [
    "Now that we have updated the template file lets verify that all the components are ready, and deploy the stack"
   ]
  },
  {
   "cell_type": "code",
   "execution_count": null,
   "metadata": {},
   "outputs": [],
   "source": [
    "import boto3\n",
    "from time import sleep\n",
    "\n",
    "\n",
    "def is_kendra_active(kendra_index_id):\n",
    "    kendra_client = boto3.client('kendra')\n",
    "    response = kendra_client.describe_index(\n",
    "        Id=kendra_index_id\n",
    "    )\n",
    "    return response['Status']\n",
    "\n",
    "def is_sagemaker_jumpstart_active(sagemaker_endpoint_name):\n",
    "    sagemaker_client = boto3.client('sagemaker')\n",
    "    response = sagemaker_client.describe_endpoint(\n",
    "        EndpointName=sagemaker_endpoint_name\n",
    "    )\n",
    "    return response['EndpointStatus']\n"
   ]
  },
  {
   "cell_type": "code",
   "execution_count": null,
   "metadata": {},
   "outputs": [],
   "source": [
    "import sys\n",
    "\n",
    "print(f\"Checking if Kendra index id {kendra_index_id} is active\")\n",
    "while True:\n",
    "    try:\n",
    "        kendra_status = is_kendra_active(kendra_index_id)\n",
    "        if kendra_status == \"ACTIVE\":\n",
    "            print(f\"Kendra index is {kendra_status}\")\n",
    "            break\n",
    "        else:\n",
    "            sys.stdout.write(\".\")\n",
    "            sleep(5)\n",
    "    except Exception as e:\n",
    "            print(e)\n",
    "            print(f\"Please check if you have an index in Kendra https://{aws_region}.console.aws.amazon.com/kendra/home?region={aws_region}#indexes\\n\")\n",
    "            break\n",
    "        \n",
    "\n",
    "print(f\"Checking if Kendra index id {sagemaker_endpoint_name} is in service\")\n",
    "while True:\n",
    "    try:\n",
    "        sagemaker_endpoint_status = is_sagemaker_jumpstart_active(sagemaker_endpoint_name)\n",
    "        if sagemaker_endpoint_status == \"InService\":\n",
    "            print(f\"SageMaker endpoint is {sagemaker_endpoint_status}\")\n",
    "            break\n",
    "        else:\n",
    "            sys.stdout.write(\".\")\n",
    "            sleep(5)\n",
    "    except Exception as e:\n",
    "            print(e)\n",
    "            print(f\"Please check if you have a Sagemaker endpoint in SageMaker https://{aws_region}.console.aws.amazon.com/sagemaker/home?region={aws_region}#/endpoints\\n\")\n",
    "            break\n"
   ]
  },
  {
   "cell_type": "markdown",
   "metadata": {},
   "source": [
    "Now we will update the [template](/lab4/template.yml), and deploy the stack using sam-cli.\n",
    "\n",
    "Let's add to SageMaker execution role permissions to deploy the application with CloudFormation"
   ]
  },
  {
   "cell_type": "code",
   "execution_count": null,
   "metadata": {},
   "outputs": [],
   "source": [
    "attach_response = iam_client.attach_role_policy(\n",
    "    RoleName=sm_execution_role_name,\n",
    "    PolicyArn=\"arn:aws:iam::aws:policy/AWSCloudFormationFullAccess\"\n",
    ")"
   ]
  },
  {
   "cell_type": "code",
   "execution_count": null,
   "metadata": {},
   "outputs": [],
   "source": [
    "with open(\"template.yml\", 'r') as f:\n",
    "    template = f.read()\n",
    "    \n",
    "update_template = template.replace(\"***KENDRA_INDEX_ID***\", f\"{kendra_index_id}\")\n",
    "\n",
    "with open(\"template.yml\", 'w') as f:\n",
    "    f.write(update_template)"
   ]
  },
  {
   "cell_type": "code",
   "execution_count": null,
   "metadata": {},
   "outputs": [],
   "source": [
    "!sam build"
   ]
  },
  {
   "cell_type": "code",
   "execution_count": null,
   "metadata": {},
   "outputs": [],
   "source": [
    "!sam deploy --stack-name gen-ai-immersion-day-stack --resolve-s3 --capabilities CAPABILITY_IAM"
   ]
  },
  {
   "cell_type": "markdown",
   "metadata": {},
   "source": [
    "# Chatbot app\n",
    "\n",
    "Now that we launched our stack with the following components:\n",
    "\n",
    "- Frontend: streamlit application running on ECS Fargate\n",
    "- Kendra Index - currently empty\n",
    "- Falcon Endpoint hosted in SageMaker using Jumpstart\n",
    "- DynamoDB table that is acting as chat memory per user ID, and host the entire conversation\n",
    "- Backend: RAG lambda with API Gateway, this lambda does the following\n",
    "  - retrieve the POST request from the chatbot app, abd by using `LangChain` \n",
    "  - get the conversion history per user ID\n",
    "  - retrieve from Kendra documents that answers the user prompt\n",
    "  - create the prompt using a prompt template\n",
    "  - POST the prompt to the LLM model and respond back to the chatbot app with the generated text\n",
    "\n",
    "Let's get the chatbot app from the CloudFormation stack and start chat with the chatbot"
   ]
  },
  {
   "cell_type": "code",
   "execution_count": null,
   "metadata": {},
   "outputs": [],
   "source": [
    "!aws cloudformation describe-stacks --stack-name gen-ai-immersion-day-stack --query \"Stacks[0].Outputs[1].OutputValue\""
   ]
  },
  {
   "cell_type": "markdown",
   "metadata": {},
   "source": [
    "Let's see how the LLM responds to what is `Amazon EC2 Nitro Enclave?` without RAG\n",
    "\n",
    "![no-rag](../img/nitro_enclave_no_rag.jpg)\n",
    "\n",
    "We can see that the LLM has no notion on what is Nitro Enclave\n",
    "\n",
    "### Adding to Kendra documents for prompt engineering\n",
    "\n",
    "Now that we have a the chatbot application works, let's add to Kendra documents that will enrich the prompt with more context, and help the LLM model to provide better results.\n",
    "\n",
    "Kendra provides multiple ways indexing data into it, we will use 2.\n",
    "- S3 - uploading documents into S3 and index them from their\n",
    "- Web crawling\n",
    "\n",
    "We will use S3 data connector source"
   ]
  },
  {
   "cell_type": "code",
   "execution_count": null,
   "metadata": {},
   "outputs": [],
   "source": [
    "# specifying bucket name for model artifact storage\n",
    "prefix = 'kendra-storage'\n",
    "kendra_bucket_name = f'{prefix}-{aws_account_id}-{aws_region}'\n",
    "\n",
    "s3_client = boto3.client('s3', region_name=aws_region)\n",
    "try:\n",
    "    if aws_region == \"us-east-1\":\n",
    "        s3_client.create_bucket(Bucket=kendra_bucket_name)\n",
    "    else:\n",
    "        s3_client.create_bucket(Bucket=kendra_bucket_name,\n",
    "                                CreateBucketConfiguration={'LocationConstraint': aws_region})\n",
    "    print(f\"Bucket {kendra_bucket_name} created\")\n",
    "except Exception as e:\n",
    "    print(f\"Bucket {kendra_bucket_name} already exists\")\n",
    "    "
   ]
  },
  {
   "cell_type": "markdown",
   "metadata": {},
   "source": [
    "Now let's upload files into the bucket"
   ]
  },
  {
   "cell_type": "code",
   "execution_count": null,
   "metadata": {},
   "outputs": [],
   "source": [
    "import os\n",
    "import requests\n",
    "from tqdm import tqdm\n",
    "from io import BytesIO\n",
    "\n",
    "\n",
    "# List of URLs to download PDFs from\n",
    "pdf_urls = [\n",
    "    \"https://patentimages.storage.googleapis.com/bb/0f/5a/6ef847538a6ab5/US10606565.pdf\",\n",
    "    \"https://patentimages.storage.googleapis.com/f7/50/e4/81af7ddcbb2773/US9183397.pdf\",\n",
    "    \"https://docs.aws.amazon.com/pdfs/enclaves/latest/user/enclaves-user.pdf\",\n",
    "    \"https://docs.aws.amazon.com/pdfs/ec2-instance-connect/latest/APIReference/ec2-instance-connect-api.pdf\",\n",
    "]\n",
    "print(kendra_bucket_name)\n",
    "# Download PDFs from the URLs and upload them to the S3 bucket\n",
    "for url in tqdm(pdf_urls):\n",
    "    response = requests.get(url, stream=True)\n",
    "    filename = os.path.basename(url)\n",
    "    print(f\"Working on {filename}\")\n",
    "    fileobj = BytesIO()\n",
    "    total_size = int(response.headers.get('content-length', 0))\n",
    "    block_size = 1024\n",
    "    progress_bar = tqdm(total=total_size, unit='iB', unit_scale=True)\n",
    "    for data in response.iter_content(block_size):\n",
    "        progress_bar.update(len(data))\n",
    "        fileobj.write(data)\n",
    "    progress_bar.close()\n",
    "    fileobj.seek(0)\n",
    "    s3_client.upload_fileobj(fileobj, kendra_bucket_name, filename)"
   ]
  },
  {
   "cell_type": "markdown",
   "metadata": {},
   "source": [
    "Verify that the files were uploaded"
   ]
  },
  {
   "cell_type": "code",
   "execution_count": null,
   "metadata": {},
   "outputs": [],
   "source": [
    "!aws s3 ls s3://{kendra_bucket_name}/"
   ]
  },
  {
   "cell_type": "markdown",
   "metadata": {},
   "source": [
    "Let's add to Kendra role permissions to access the S3 objects for indexing"
   ]
  },
  {
   "cell_type": "code",
   "execution_count": null,
   "metadata": {},
   "outputs": [],
   "source": [
    "kendra_policy = {\n",
    "            \"Version\": \"2012-10-17\",\n",
    "            \"Statement\": [\n",
    "                {\n",
    "                    \"Action\": [\n",
    "                        \"s3:GetObject\",\n",
    "                        \"s3:ListBucket\"\n",
    "                        ],\n",
    "                    \"Resource\": [\n",
    "                        f\"arn:aws:s3:::{kendra_bucket_name}\",\n",
    "                        f\"arn:aws:s3:::{kendra_bucket_name}/*\"\n",
    "                        ],\n",
    "                    \"Effect\": \"Allow\"\n",
    "                    },\n",
    "                {\n",
    "                    \"Effect\": \"Allow\",\n",
    "                    \"Action\": [\n",
    "                         \"kendra:BatchPutDocument\",\n",
    "                         \"kendra:BatchDeleteDocument\",\n",
    "                         \"kendra:BatchPutDocument\"\n",
    "                        ],\n",
    "                    \"Resource\": f\"arn:aws:kendra:{aws_region}:{aws_account_id}:index/{kendra_index_id}\"\n",
    "                    }\n",
    "                ]\n",
    "            }\n",
    "\n",
    "try:\n",
    "    kendra_policy_response = iam_client.create_policy(\n",
    "        PolicyName=\"kendra-s3-access\",\n",
    "        PolicyDocument=json.dumps(kendra_policy)\n",
    "        )\n",
    "    kendra_policy_arn = kendra_policy_response['Policy']['Arn']\n",
    "except:\n",
    "    print(\"Policy exists\")\n",
    "    kendra_policy_arn = f\"arn:aws:iam::{aws_account_id}:policy/kendra-s3-access\"\n",
    "    \n",
    "\n",
    "attach_response = iam_client.attach_role_policy(\n",
    "    RoleName=f\"kendra-{name}-role\",\n",
    "    PolicyArn=kendra_policy_arn\n",
    ")\n"
   ]
  },
  {
   "cell_type": "code",
   "execution_count": null,
   "metadata": {},
   "outputs": [],
   "source": [
    "kendra_client = boto3.client('kendra')\n",
    "kendra_data_source_response = kendra_client.create_data_source(\n",
    "    Name=\"s3-data-storage\",\n",
    "    IndexId=kendra_index_id,\n",
    "    Type=\"S3\",\n",
    "    Configuration={\n",
    "        'S3Configuration': {\n",
    "            'BucketName': kendra_bucket_name,\n",
    "        }\n",
    "    },\n",
    "    RoleArn=kendra_role_arn,\n",
    ")"
   ]
  },
  {
   "cell_type": "markdown",
   "metadata": {},
   "source": [
    "Start the Kendra Sync Job to index the documents from the bucket"
   ]
  },
  {
   "cell_type": "code",
   "execution_count": null,
   "metadata": {},
   "outputs": [],
   "source": [
    "kendra_sync_response = kendra_client.start_data_source_sync_job(\n",
    "    Id=kendra_data_source_response[\"Id\"],\n",
    "    IndexId=kendra_index_id\n",
    ")\n",
    "print(kendra_sync_response)"
   ]
  },
  {
   "cell_type": "markdown",
   "metadata": {},
   "source": [
    "Now that we index files to Kendra our prompts context will be richer, and will improve the LLM response, head over to the chatbot, click on the \"Reset Session\" to get a new user ID, and have no chat memory. \n",
    "\n",
    "Ask again \"What is Amazon EC2 Nitro Enclave?\""
   ]
  },
  {
   "cell_type": "code",
   "execution_count": null,
   "metadata": {},
   "outputs": [],
   "source": [
    "!aws cloudformation describe-stacks --stack-name gen-ai-immersion-day-stack --query \"Stacks[0].Outputs[1].OutputValue\""
   ]
  },
  {
   "cell_type": "markdown",
   "metadata": {},
   "source": [
    "Now when Kendra provides more context in the prompt, the model can respond to a question that it hasn't learn on better.\n",
    "\n",
    "![with-rag](../img/nitro_enclave_rag.jpg)"
   ]
  },
  {
   "cell_type": "markdown",
   "metadata": {},
   "source": [
    "## Extra - Add Kendra web crawler data source\n",
    "\n",
    "We will crawl the LangChain documentation, We will ask before, and after adding the data into Kendra\n",
    "\n",
    "![before-langchain](../img/langchain-before-crawl.jpg)"
   ]
  },
  {
   "cell_type": "code",
   "execution_count": null,
   "metadata": {},
   "outputs": [],
   "source": [
    "langchain_url = \"https://python.langchain.com/docs/get_started/\"\n",
    "\n",
    "kendra_client = boto3.client('kendra')\n",
    "kendra_data_source_response = kendra_client.create_data_source(\n",
    "    Name='web-crawler-data-source',\n",
    "    IndexId=kendra_index_id,\n",
    "    Type='TEMPLATE',\n",
    "    Configuration={\n",
    "        'TemplateConfiguration': {\n",
    "            'Template': {\n",
    "                'connectionConfiguration': {\n",
    "                    'repositoryEndpointMetadata': {\n",
    "                        's3SeedUrl': None,\n",
    "                        'siteMapUrls': None,\n",
    "                        'seedUrlConnections': [\n",
    "                            {\n",
    "                                'seedUrl': langchain_url\n",
    "                            }\n",
    "                        ],\n",
    "                        's3SiteMapUrl': None,\n",
    "                        'authentication': 'NoAuthentication'\n",
    "                    }\n",
    "                },\n",
    "                'enableIdentityCrawler': False,\n",
    "                'syncMode': \"FORCED_FULL_CRAWL\",\n",
    "                'additionalProperties': {\n",
    "                    'inclusionFileIndexPatterns': [],\n",
    "                    'rateLimit': '300',\n",
    "                    'maxFileSize': '50',\n",
    "                    'crawlDepth': '2',\n",
    "                    'crawlAllDomain': True,\n",
    "                    'crawlSubDomain': False,\n",
    "                    'inclusionURLIndexPatterns': [],\n",
    "                    'exclusionFileIndexPatterns': [],\n",
    "                    'proxy': {},\n",
    "                    'exclusionURLCrawlPatterns': [],\n",
    "                    'exclusionURLIndexPatterns': [],\n",
    "                    'crawlAttachments': False,\n",
    "                    'honorRobots': True,\n",
    "                    'inclusionURLCrawlPatterns': [],\n",
    "                    'maxLinksPerUrl': '100'\n",
    "                },\n",
    "                'type': 'WEBCRAWLERV2',\n",
    "                'version': '1.0.0',\n",
    "                'repositoryConfigurations': {\n",
    "                    'attachment': {\n",
    "                        'fieldMappings': [\n",
    "                            {\n",
    "                                'dataSourceFieldName': 'category',\n",
    "                                'indexFieldName': '_category',\n",
    "                                'indexFieldType': 'STRING'\n",
    "                            },\n",
    "                            {\n",
    "                                'dataSourceFieldName': 'sourceUrl',\n",
    "                                'indexFieldName': '_source_uri',\n",
    "                                'indexFieldType': 'STRING'\n",
    "                            }\n",
    "                        ]\n",
    "                    },\n",
    "                    'webPage': {\n",
    "                        'fieldMappings': [\n",
    "                            {\n",
    "                                'dataSourceFieldName': 'category',\n",
    "                                'indexFieldName': '_category',\n",
    "                                'indexFieldType': 'STRING'\n",
    "                            },\n",
    "                            {\n",
    "                                'dataSourceFieldName': 'sourceUrl',\n",
    "                                'indexFieldName': '_source_uri',\n",
    "                                'indexFieldType': 'STRING'\n",
    "                            }\n",
    "                        ]\n",
    "                    }\n",
    "                }\n",
    "            }\n",
    "        }\n",
    "    },          \n",
    "    RoleArn=kendra_role_arn,\n",
    "    LanguageCode=\"en\",\n",
    "    Schedule=\"\",\n",
    "    Description=\"\"\n",
    ")\n"
   ]
  },
  {
   "cell_type": "code",
   "execution_count": null,
   "metadata": {},
   "outputs": [],
   "source": [
    "kendra_sync_response = kendra_client.start_data_source_sync_job(\n",
    "    Id=kendra_data_source_response[\"Id\"],\n",
    "    IndexId=kendra_index_id\n",
    ")"
   ]
  },
  {
   "cell_type": "code",
   "execution_count": null,
   "metadata": {},
   "outputs": [],
   "source": [
    "from time import sleep\n",
    "import sys\n",
    "\n",
    "def get_kendra_sync_status(data_source_id, index_id):\n",
    "    response = kendra_client.list_data_source_sync_jobs(\n",
    "        Id=data_source_id,\n",
    "        IndexId=index_id\n",
    "    )\n",
    "    return response\n",
    "\n",
    "while True:\n",
    "    job_count = get_kendra_sync_status(kendra_data_source_response[\"Id\"],kendra_index_id)\n",
    "    if len(job_count['History']) > 0:\n",
    "        print(\"Sync job started\")\n",
    "        break\n",
    "    else:\n",
    "        sleep(5)\n",
    "\n",
    "while True:\n",
    "    status = get_kendra_sync_status(kendra_data_source_response[\"Id\"],kendra_index_id)\n",
    "    if  status['History'][0]['Status'] not in [\"SYNCING\", \"STOPPING\", \"SYNCING_INDEXING\"]:\n",
    "        print(f\"Sync job {status['History'][0]['ExecutionId']} finished with status {status['History'][0]['Status']}\")\n",
    "        break\n",
    "    else:\n",
    "        sys.stdout.write(\".\")\n",
    "        sys.stdout.flush()\n",
    "        sleep(5)\n",
    "        \n",
    "if status['History'][0]['Status'] in [\"FAILED\",\"INCOMPLETE\"]:    \n",
    "    print(\"\\nCheck sync failure in Kendra\")\n",
    "    \n",
    "        "
   ]
  },
  {
   "cell_type": "markdown",
   "metadata": {},
   "source": [
    "![after](../img/langchain-after.jpg)"
   ]
  },
  {
   "cell_type": "markdown",
   "metadata": {},
   "source": [
    "## Cleanup"
   ]
  },
  {
   "cell_type": "code",
   "execution_count": null,
   "metadata": {},
   "outputs": [],
   "source": [
    "!sam delete --no-prompts --stack-name gen-ai-immersion-day-stack"
   ]
  },
  {
   "cell_type": "code",
   "execution_count": 35,
   "metadata": {},
   "outputs": [],
   "source": [
    "!aws sagemaker delete-endpoint --endpoint-name {sagemaker_endpoint_name}"
   ]
  },
  {
   "cell_type": "code",
   "execution_count": 36,
   "metadata": {},
   "outputs": [],
   "source": [
    "!aws kendra delete-index --id {kendra_index_id}"
   ]
  },
  {
   "cell_type": "code",
   "execution_count": null,
   "metadata": {},
   "outputs": [],
   "source": []
  }
 ],
 "metadata": {
  "kernelspec": {
   "display_name": ".venv",
   "language": "python",
   "name": "python3"
  },
  "language_info": {
   "codemirror_mode": {
    "name": "ipython",
    "version": 3
   },
   "file_extension": ".py",
   "mimetype": "text/x-python",
   "name": "python",
   "nbconvert_exporter": "python",
   "pygments_lexer": "ipython3",
   "version": "3.10.12"
  },
  "orig_nbformat": 4
 },
 "nbformat": 4,
 "nbformat_minor": 2
}
