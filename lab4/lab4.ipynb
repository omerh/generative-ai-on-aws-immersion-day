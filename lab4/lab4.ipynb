{
 "cells": [
  {
   "attachments": {},
   "cell_type": "markdown",
   "metadata": {},
   "source": [
    "# Pre-requisite  "
   ]
  },
  {
   "cell_type": "code",
   "execution_count": null,
   "metadata": {},
   "outputs": [],
   "source": [
    "!pip install --upgrade -q boto3 langchain sagemaker-studio-image-build aws-sam-cli"
   ]
  },
  {
   "attachments": {},
   "cell_type": "markdown",
   "metadata": {},
   "source": [
    "# Workshop variables"
   ]
  },
  {
   "cell_type": "code",
   "execution_count": null,
   "metadata": {},
   "outputs": [],
   "source": [
    "name=\"gen-ai-workshop\"\n",
    "jumpstart_model = \"huggingface-llm-falcon-7b-instruct-bf16\"\n",
    "endpoint_name=f\"{name}-endpoint\""
   ]
  },
  {
   "cell_type": "code",
   "execution_count": null,
   "metadata": {},
   "outputs": [],
   "source": [
    "import boto3\n",
    "\n",
    "\n",
    "aws_region = boto3.Session().region_name\n",
    "aws_account_id = boto3.client('sts').get_caller_identity().get('Account')"
   ]
  },
  {
   "attachments": {},
   "cell_type": "markdown",
   "metadata": {},
   "source": [
    "# Launch Kendra Index\n",
    "\n",
    "Kendra will be the RAG endpoint, that will store our documents, for RAG prompt engineering.\n",
    "\n",
    "We will first create a role for Kendra"
   ]
  },
  {
   "cell_type": "code",
   "execution_count": null,
   "metadata": {},
   "outputs": [],
   "source": [
    "import boto3\n",
    "import json\n",
    "\n",
    "iam_client = boto3.client('iam')\n",
    "\n",
    "kendra_trust_policy = {\n",
    "    \"Version\": \"2012-10-17\",\n",
    "    \"Statement\": [{\n",
    "        \"Effect\": \"Allow\",\n",
    "        \"Principal\": {\n",
    "            \"Service\": \"kendra.amazonaws.com\"\n",
    "        },\n",
    "        \"Action\": \"sts:AssumeRole\"\n",
    "        }]\n",
    "    }\n",
    "\n",
    "policy_cloudwatch_arn = \"arn:aws:iam::aws:policy/CloudWatchLogsFullAccess\"\n",
    "\n",
    "try:\n",
    "    response =iam_client.get_role(RoleName=f\"kendra-{name}-role\")\n",
    "    print(f\"kendra-{name}-role Role already exists\")\n",
    "except:\n",
    "    response = iam_client.create_role(\n",
    "        RoleName=f\"kendra-{name}-role\",\n",
    "        AssumeRolePolicyDocument=json.dumps(kendra_trust_policy),\n",
    "    )\n",
    "    print(f\"Created the role kendra-{name}-role\")\n",
    "    \n",
    "kendra_role_arn = response[\"Role\"][\"Arn\"]\n",
    "\n",
    "try:\n",
    "    response = iam_client.attach_role_policy(\n",
    "        RoleName=f\"kendra-{name}-role\",\n",
    "        PolicyArn=policy_cloudwatch_arn\n",
    "    )\n",
    "except:\n",
    "    print(f\"Policy already attached to role kendra-{name}-role\")\n",
    "    \n",
    "    \n"
   ]
  },
  {
   "cell_type": "code",
   "execution_count": null,
   "metadata": {},
   "outputs": [],
   "source": [
    "kendra_client = boto3.client(\"kendra\")\n",
    "\n",
    "def list_kendra_indices(kendra_client):\n",
    "    kendra_indices = kendra_client.list_indices()\n",
    "    return kendra_indices[\"IndexConfigurationSummaryItems\"]\n",
    "\n",
    "\n",
    "def find_index_id_according_to_tag(kendra_client, indices, aws_region, aws_account_id):\n",
    "    for k_index in indices:\n",
    "        describe_index_tags_response = kendra_client.list_tags_for_resource(\n",
    "            ResourceARN=f\"arn:aws:kendra:{aws_region}:{aws_account_id}:index/{k_index['Id']}\"\n",
    "        )\n",
    "        for tag in describe_index_tags_response[\"Tags\"]:\n",
    "            if tag[\"Key\"] == \"workshop\" and tag[\"Value\"] == \"gen-ai\":\n",
    "                return k_index['Id']\n",
    "    return None\n",
    "\n",
    "\n",
    "def create_kendra_index(kendra_client):\n",
    "    kendra_index_response = kendra_client.create_index(\n",
    "        Name=f\"{name}-index\",\n",
    "        Edition=\"DEVELOPER_EDITION\",\n",
    "        RoleArn=kendra_role_arn,\n",
    "        Tags=[{\n",
    "            'Key': 'workshop',\n",
    "            'Value': 'gen-ai'\n",
    "            }]\n",
    "    )\n",
    "    kendra_index_id = kendra_index_response[\"Id\"]\n",
    "    return kendra_index_id\n",
    "\n",
    "\n",
    "# Creating Kendra index\n",
    "kendra_indices = list_kendra_indices(kendra_client)\n",
    "if len(kendra_indices) > 0:\n",
    "    kendra_index_id = find_index_id_according_to_tag(kendra_client, kendra_indices, aws_region, aws_account_id)\n",
    "    if kendra_index_id is None:\n",
    "        # you have indices but not tagged with workshop=gen-ai\n",
    "        kendra_index_id = create_kendra_index(kendra_client)\n",
    "else:\n",
    "    create_kendra_index(kendra_client)\n",
    "\n",
    "\n",
    "print(kendra_index_id)\n"
   ]
  },
  {
   "cell_type": "markdown",
   "metadata": {},
   "source": [
    "## LLM Endpoint provisioning\n",
    "\n",
    "Now we will deploy LLM Model Falcon 7B instruct using SageMaker sdk `JumpstartModel` class, that will do all the heavy lifting configuring the endpoint in Amazon SageMaker."
   ]
  },
  {
   "cell_type": "code",
   "execution_count": null,
   "metadata": {},
   "outputs": [],
   "source": [
    "from sagemaker import get_execution_role\n",
    "\n",
    "\n",
    "try:\n",
    "    sm_execution_role = get_execution_role()\n",
    "except:\n",
    "    # To work locally use explicit role\n",
    "    sm_execution_role = \"arn:aws:iam::910416587115:role/SageMaker-Role-Full\"\n",
    "\n",
    "print(sm_execution_role)"
   ]
  },
  {
   "cell_type": "code",
   "execution_count": null,
   "metadata": {},
   "outputs": [],
   "source": [
    "from sagemaker.jumpstart.model import JumpStartModel\n",
    "\n",
    "\n",
    "jumpstart_model_id = \"huggingface-textgeneration-falcon-7b-instruct-bf16\"\n",
    "sagemaker_endpoint_name = f\"{name}-falcon-7b-instruct\"\n",
    "\n",
    "\n",
    "try:\n",
    "    model = JumpStartModel(model_id=jumpstart_model_id, role=sm_execution_role)\n",
    "    model.deploy(endpoint_name=f\"{name}-falcon-7b-instruct-1\", wait=False)\n",
    "except Exception as e:\n",
    "    print(e)\n",
    "    print(f\"\"\"\\nPlease make sure that you dont have in your account an endpoint or endpoint configuration with name {sagemaker_endpoint_name}\\n\n",
    "          Endpoint configuration: Check at https://{aws_region}.console.aws.amazon.com/sagemaker/home?region={aws_region}#/endpointConfig\n",
    "          Endpoint: Check at https://{aws_region}.console.aws.amazon.com/sagemaker/home?region={aws_region}#/endpoints/ \n",
    "          \n",
    "          If the endpoint is already running, you may continue the workshop and use it.\n",
    "          \"\"\")\n",
    "    \n",
    "    "
   ]
  },
  {
   "cell_type": "markdown",
   "metadata": {},
   "source": [
    "# Build the backend lambda, and API Gateway\n",
    "\n",
    "By now, we have launch Amazon Kendra, and Falcon LLM, using Amazon SageMaker endpoint.\n",
    "\n",
    "Now we will build the Backend lambda, using [AWS Serverless Application Model](https://aws.amazon.com/serverless/sam/) (SAM), an open-source framework for building serverless applications.\n",
    "\n",
    "The lambda code [rag_app](/lab4/rag_app/) contains couple of environment variables that help us control the lambda behavior.\n"
   ]
  },
  {
   "cell_type": "markdown",
   "metadata": {},
   "source": [
    "## Build the container image for frontend chatbot application\n",
    "\n",
    "While using Sagemaker studio, using `sagemaker-studio-image-build` we can trigger a docker build leveraging [AWS CodeBuild](https://aws.amazon.com/codebuild/)\n",
    "\n",
    "We will start by adding appropriate roles to SageMaker execution role, to allow triggering the build job."
   ]
  },
  {
   "cell_type": "code",
   "execution_count": null,
   "metadata": {},
   "outputs": [],
   "source": [
    "import boto3\n",
    "\n",
    "sm_execution_role_name = sm_execution_role.split(\"/\")[-1]\n",
    "\n",
    "with open(\"codebuild-policy.json\") as f:\n",
    "    code_build_policy_document = f.read()\n",
    "\n",
    "iam_client = boto3.client(\"iam\")\n",
    "\n",
    "try:\n",
    "    policy_response = iam_client.create_policy(\n",
    "        PolicyName=f\"codebuild-policy-sm-docker-build\",\n",
    "        PolicyDocument=code_build_policy_document\n",
    "    )\n",
    "    code_build_policy_arn = policy_response['Policy']['Arn']\n",
    "except:\n",
    "    print(\"Policy exists\")\n",
    "    code_build_policy_arn = f\"arn:aws:iam::{aws_account_id}:policy/codebuild-policy-sm-docker-build\"\n",
    "    \n",
    "\n",
    "attach_response = iam_client.attach_role_policy(\n",
    "    RoleName=sm_execution_role_name,\n",
    "    PolicyArn=code_build_policy_arn\n",
    ")\n",
    "\n",
    "codebuild_trust_policy = {\n",
    "     \"Version\": \"2012-10-17\",\n",
    "    \"Statement\": [\n",
    "        {\n",
    "            \"Effect\": \"Allow\",\n",
    "            \"Principal\": {\n",
    "                \"Service\": \"sagemaker.amazonaws.com\"\n",
    "            },\n",
    "            \"Action\": \"sts:AssumeRole\"\n",
    "        },\n",
    "        {\n",
    "            \"Effect\": \"Allow\",\n",
    "            \"Principal\": {\n",
    "                \"Service\": [\n",
    "                    \"codebuild.amazonaws.com\" \n",
    "                ]\n",
    "            },\n",
    "            \"Action\": \"sts:AssumeRole\"\n",
    "        }\n",
    "    ]\n",
    "}\n",
    "\n",
    "response = iam_client.update_assume_role_policy(\n",
    "    RoleName=sm_execution_role_name,\n",
    "    PolicyDocument=json.dumps(codebuild_trust_policy)\n",
    ")"
   ]
  },
  {
   "cell_type": "markdown",
   "metadata": {},
   "source": [
    "Now that we have configured SageMaker execution role, we can trigger a build job to build the frontend chatbot application that was built using [`streamlit`](https://streamlit.io/)."
   ]
  },
  {
   "cell_type": "code",
   "execution_count": null,
   "metadata": {},
   "outputs": [],
   "source": [
    "!cd fe && sm-docker build --role $sm_execution_role_name --repository gen-ai-streamlit-fe:latest ."
   ]
  },
  {
   "cell_type": "markdown",
   "metadata": {},
   "source": [
    "Now we will update the [template](/lab4/template.yml), and deploy the stack using sam-cli"
   ]
  },
  {
   "cell_type": "markdown",
   "metadata": {},
   "source": []
  },
  {
   "cell_type": "code",
   "execution_count": 140,
   "metadata": {},
   "outputs": [],
   "source": [
    "with open(\"template.yml\", 'r') as f:\n",
    "    template = f.read()\n",
    "    \n",
    "update_template = template.replace(\"***KENDRA_INDEX_ID***\", f\"{kendra_index_id}\")\n",
    "\n",
    "with open(\"template.yml\", 'w') as f:\n",
    "    f.write(update_template)"
   ]
  },
  {
   "cell_type": "markdown",
   "metadata": {},
   "source": [
    "Now that we have updated the template file lets verify that all the components are ready, and deploy the stack"
   ]
  },
  {
   "cell_type": "code",
   "execution_count": null,
   "metadata": {},
   "outputs": [],
   "source": []
  },
  {
   "cell_type": "code",
   "execution_count": 142,
   "metadata": {},
   "outputs": [
    {
     "name": "stdout",
     "output_type": "stream",
     "text": [
      "Building codeuri:                                                               \n",
      "\u001b[35m/Users/omerhaim/work/aws/generative-ai-on-aws-immersion-day/lab4/\u001b[0m\u001b[95mrag_app\u001b[0m        \n",
      "runtime: python3.\u001b[1;36m10\u001b[0m metadata: \u001b[1m{\u001b[0m\u001b[1m}\u001b[0m architecture: x86_64 functions: RagAppFunction \n",
      "Running PythonPipBuilder:ResolveDependencies                                    \n",
      "Running PythonPipBuilder:CopySource                                             \n",
      "\u001b[32m\n",
      "Build Succeeded\u001b[0m\n",
      "\u001b[33m\n",
      "Built Artifacts  : .aws-sam/build\n",
      "Built Template   : .aws-sam/build/template.yaml\n",
      "\n",
      "Commands you can use next\n",
      "=========================\n",
      "[*] Validate SAM template: sam validate\n",
      "[*] Invoke Function: sam local invoke\n",
      "[*] Test Function in the Cloud: sam sync --stack-name {{stack-name}} --watch\n",
      "[*] Deploy: sam deploy --guided\u001b[0m\n"
     ]
    }
   ],
   "source": [
    "!sam build"
   ]
  },
  {
   "cell_type": "code",
   "execution_count": 143,
   "metadata": {},
   "outputs": [
    {
     "name": "stdout",
     "output_type": "stream",
     "text": [
      "\n",
      "\t\tManaged S3 bucket: aws-sam-cli-managed-default-samclisourcebucket-ppxavannbzh9\n",
      "\t\tA different default S3 bucket can be set in samconfig.toml\n",
      "\t\tOr by specifying --s3-bucket explicitly.\n",
      "\tUploading to ef6b4b240b79ae7bdbc18c797f1c6b7f  39921051 / 39921051  (100.00%)\n",
      "\u001b[33m\n",
      "\tDeploying with following values\n",
      "\t===============================\u001b[0m\n",
      "\tStack name                   : gen-ai-immersion-day-stack\n",
      "\tRegion                       : eu-west-1\n",
      "\tConfirm changeset            : False\n",
      "\tDisable rollback             : False\n",
      "\tDeployment s3 bucket         : aws-sam-cli-managed-default-samclisourcebucket-ppxavannbzh9\n",
      "\tCapabilities                 : [\"CAPABILITY_IAM\"]\n",
      "\tParameter overrides          : {}\n",
      "\tSigning Profiles             : {}\n",
      "\u001b[33m\n",
      "Initiating deployment\n",
      "=====================\n",
      "\u001b[0m\n",
      "\tUploading to dba9fec7897bcb45e84beca1e0ae8c0e.template  9694 / 9694  (100.00%)\n",
      "\n",
      "\n",
      "Waiting for changeset to be created..\n",
      "\n",
      "\u001b[1mCloudFormation stack changeset\u001b[0m\n",
      "\u001b[33m-------------------------------------------------------------------------------------------------\u001b[0m\n",
      "\u001b[33mOperation                LogicalResourceId        ResourceType             Replacement            \u001b[0m\n",
      "\u001b[33m-------------------------------------------------------------------------------------------------\u001b[0m\n",
      "\u001b[32m+ Add                    ECSCluster               AWS::ECS::Cluster        N/A                    \u001b[0m\n",
      "\u001b[32m+ Add                    ECSService               AWS::ECS::Service        N/A                    \u001b[0m\n",
      "\u001b[32m+ Add                    ECSTaskDefinition        AWS::ECS::TaskDefiniti   N/A                    \u001b[0m\n",
      "\u001b[32m                                                  on                                              \u001b[0m\n",
      "\u001b[32m+ Add                    EcsTaskExecutionRole     AWS::IAM::Role           N/A                    \u001b[0m\n",
      "\u001b[32m+ Add                    ElasticIp                AWS::EC2::EIP            N/A                    \u001b[0m\n",
      "\u001b[32m+ Add                    InternetGateway          AWS::EC2::InternetGate   N/A                    \u001b[0m\n",
      "\u001b[32m                                                  way                                             \u001b[0m\n",
      "\u001b[32m+ Add                    LambdaExecutionRole      AWS::IAM::Role           N/A                    \u001b[0m\n",
      "\u001b[32m+ Add                    LoadBalancerListener     AWS::ElasticLoadBalanc   N/A                    \u001b[0m\n",
      "\u001b[32m                                                  ingV2::Listener                                 \u001b[0m\n",
      "\u001b[32m+ Add                    LoadBalancerSecurityGr   AWS::EC2::SecurityGrou   N/A                    \u001b[0m\n",
      "\u001b[32m                         oup                      p                                               \u001b[0m\n",
      "\u001b[32m+ Add                    LoadBalancer             AWS::ElasticLoadBalanc   N/A                    \u001b[0m\n",
      "\u001b[32m                                                  ingV2::LoadBalancer                             \u001b[0m\n",
      "\u001b[32m+ Add                    MemoryTable              AWS::DynamoDB::Table     N/A                    \u001b[0m\n",
      "\u001b[32m+ Add                    MyLogGroup               AWS::Logs::LogGroup      N/A                    \u001b[0m\n",
      "\u001b[32m+ Add                    PublicRouteTable         AWS::EC2::RouteTable     N/A                    \u001b[0m\n",
      "\u001b[32m+ Add                    PublicRoute              AWS::EC2::Route          N/A                    \u001b[0m\n",
      "\u001b[32m+ Add                    PublicSubnetRouteTable   AWS::EC2::SubnetRouteT   N/A                    \u001b[0m\n",
      "\u001b[32m                         AssociationSn1           ableAssociation                                 \u001b[0m\n",
      "\u001b[32m+ Add                    PublicSubnetRouteTable   AWS::EC2::SubnetRouteT   N/A                    \u001b[0m\n",
      "\u001b[32m                         AssociationSn2           ableAssociation                                 \u001b[0m\n",
      "\u001b[32m+ Add                    RagAppApiDeploymentef7   AWS::ApiGateway::Deplo   N/A                    \u001b[0m\n",
      "\u001b[32m                         e339f34                  yment                                           \u001b[0m\n",
      "\u001b[32m+ Add                    RagAppApiprodStage       AWS::ApiGateway::Stage   N/A                    \u001b[0m\n",
      "\u001b[32m+ Add                    RagAppApi                AWS::ApiGateway::RestA   N/A                    \u001b[0m\n",
      "\u001b[32m                                                  pi                                              \u001b[0m\n",
      "\u001b[32m+ Add                    RagAppFunctionApiEvent   AWS::Lambda::Permissio   N/A                    \u001b[0m\n",
      "\u001b[32m                         Permissionprod           n                                               \u001b[0m\n",
      "\u001b[32m+ Add                    RagAppFunction           AWS::Lambda::Function    N/A                    \u001b[0m\n",
      "\u001b[32m+ Add                    SecurityGroupEcs         AWS::EC2::SecurityGrou   N/A                    \u001b[0m\n",
      "\u001b[32m                                                  p                                               \u001b[0m\n",
      "\u001b[32m+ Add                    Subnet1                  AWS::EC2::Subnet         N/A                    \u001b[0m\n",
      "\u001b[32m+ Add                    Subnet2                  AWS::EC2::Subnet         N/A                    \u001b[0m\n",
      "\u001b[32m+ Add                    TargetGroup              AWS::ElasticLoadBalanc   N/A                    \u001b[0m\n",
      "\u001b[32m                                                  ingV2::TargetGroup                              \u001b[0m\n",
      "\u001b[32m+ Add                    VPCGatewayAttachment     AWS::EC2::VPCGatewayAt   N/A                    \u001b[0m\n",
      "\u001b[32m                                                  tachment                                        \u001b[0m\n",
      "\u001b[32m+ Add                    VPC                      AWS::EC2::VPC            N/A                    \u001b[0m\n",
      "\u001b[33m-------------------------------------------------------------------------------------------------\n",
      "\u001b[0m\n",
      "\n",
      "Changeset created successfully. arn:aws:cloudformation:eu-west-1:910416587115:changeSet/samcli-deploy1689525431/9eee4521-ea52-4fa5-9f82-9e0b34506abc\n",
      "\n",
      "\n",
      "2023-07-16 19:37:18 - Waiting for stack create/update to complete\n",
      "\u001b[1m\n",
      "CloudFormation events from stack operations (refresh every 5.0 seconds)\u001b[0m\n",
      "\u001b[33m-------------------------------------------------------------------------------------------------\u001b[0m\n",
      "\u001b[33mResourceStatus           ResourceType             LogicalResourceId        ResourceStatusReason   \u001b[0m\n",
      "\u001b[33m-------------------------------------------------------------------------------------------------\u001b[0m\n",
      "\u001b[33mCREATE_IN_PROGRESS       AWS::CloudFormation::S   gen-ai-immersion-day-    User Initiated         \u001b[0m\n",
      "\u001b[33m                         tack                     stack                                           \u001b[0m\n",
      "\u001b[33mCREATE_IN_PROGRESS       AWS::DynamoDB::Table     MemoryTable              -                      \u001b[0m\n",
      "\u001b[33mCREATE_IN_PROGRESS       AWS::IAM::Role           EcsTaskExecutionRole     -                      \u001b[0m\n",
      "\u001b[33mCREATE_IN_PROGRESS       AWS::EC2::EIP            ElasticIp                -                      \u001b[0m\n",
      "\u001b[33mCREATE_IN_PROGRESS       AWS::ECS::Cluster        ECSCluster               -                      \u001b[0m\n",
      "\u001b[33mCREATE_IN_PROGRESS       AWS::EC2::InternetGate   InternetGateway          -                      \u001b[0m\n",
      "\u001b[33m                         way                                                                      \u001b[0m\n",
      "\u001b[33mCREATE_IN_PROGRESS       AWS::EC2::VPC            VPC                      -                      \u001b[0m\n",
      "\u001b[33mCREATE_IN_PROGRESS       AWS::Logs::LogGroup      MyLogGroup               -                      \u001b[0m\n",
      "\u001b[31mCREATE_FAILED            AWS::DynamoDB::Table     MemoryTable              MemoryTable already    \u001b[0m\n",
      "\u001b[31m                                                                           exists in stack arn:aw \u001b[0m\n",
      "\u001b[31m                                                                           s:cloudformation:eu-we \u001b[0m\n",
      "\u001b[31m                                                                           st-                    \u001b[0m\n",
      "\u001b[31m                                                                           1:910416587115:stack/r \u001b[0m\n",
      "\u001b[31m                                                                           ag-stack/c4f4c0e0-     \u001b[0m\n",
      "\u001b[31m                                                                           1414-11ee-862d-        \u001b[0m\n",
      "\u001b[31m                                                                           02d320ffd109           \u001b[0m\n",
      "\u001b[33mCREATE_IN_PROGRESS       AWS::IAM::Role           LambdaExecutionRole      -                      \u001b[0m\n",
      "\u001b[31mCREATE_FAILED            AWS::Logs::LogGroup      MyLogGroup               rag-app-log-group      \u001b[0m\n",
      "\u001b[31m                                                                           already exists in      \u001b[0m\n",
      "\u001b[31m                                                                           stack arn:aws:cloudfor \u001b[0m\n",
      "\u001b[31m                                                                           mation:eu-west-        \u001b[0m\n",
      "\u001b[31m                                                                           1:910416587115:stack/r \u001b[0m\n",
      "\u001b[31m                                                                           ag-stack/c4f4c0e0-     \u001b[0m\n",
      "\u001b[31m                                                                           1414-11ee-862d-        \u001b[0m\n",
      "\u001b[31m                                                                           02d320ffd109           \u001b[0m\n",
      "\u001b[31mCREATE_FAILED            AWS::EC2::EIP            ElasticIp                Resource creation      \u001b[0m\n",
      "\u001b[31m                                                                           cancelled              \u001b[0m\n",
      "\u001b[31mCREATE_FAILED            AWS::EC2::VPC            VPC                      Resource creation      \u001b[0m\n",
      "\u001b[31m                                                                           cancelled              \u001b[0m\n",
      "\u001b[31mCREATE_FAILED            AWS::EC2::InternetGate   InternetGateway          Resource creation      \u001b[0m\n",
      "\u001b[31m                         way                                               cancelled              \u001b[0m\n",
      "\u001b[31mCREATE_FAILED            AWS::ECS::Cluster        ECSCluster               Resource creation      \u001b[0m\n",
      "\u001b[31m                                                                           cancelled              \u001b[0m\n",
      "\u001b[31mCREATE_FAILED            AWS::IAM::Role           LambdaExecutionRole      Resource creation      \u001b[0m\n",
      "\u001b[31m                                                                           cancelled              \u001b[0m\n",
      "\u001b[31mCREATE_FAILED            AWS::IAM::Role           EcsTaskExecutionRole     Resource creation      \u001b[0m\n",
      "\u001b[31m                                                                           cancelled              \u001b[0m\n",
      "\u001b[31mROLLBACK_IN_PROGRESS     AWS::CloudFormation::S   gen-ai-immersion-day-    The following          \u001b[0m\n",
      "\u001b[31m                         tack                     stack                    resource(s) failed to  \u001b[0m\n",
      "\u001b[31m                                                                           create:                \u001b[0m\n",
      "\u001b[31m                                                                           [LambdaExecutionRole,  \u001b[0m\n",
      "\u001b[31m                                                                           InternetGateway, VPC,  \u001b[0m\n",
      "\u001b[31m                                                                           ElasticIp, ECSCluster, \u001b[0m\n",
      "\u001b[31m                                                                           EcsTaskExecutionRole,  \u001b[0m\n",
      "\u001b[31m                                                                           MyLogGroup,            \u001b[0m\n",
      "\u001b[31m                                                                           MemoryTable]. Rollback \u001b[0m\n",
      "\u001b[31m                                                                           requested by user.     \u001b[0m\n",
      "\u001b[31mDELETE_IN_PROGRESS       AWS::IAM::Role           EcsTaskExecutionRole     -                      \u001b[0m\n",
      "\u001b[32mDELETE_COMPLETE          AWS::DynamoDB::Table     MemoryTable              -                      \u001b[0m\n",
      "\u001b[32mDELETE_COMPLETE          AWS::IAM::Role           LambdaExecutionRole      -                      \u001b[0m\n",
      "\u001b[32mDELETE_COMPLETE          AWS::Logs::LogGroup      MyLogGroup               -                      \u001b[0m\n",
      "\u001b[32mDELETE_COMPLETE          AWS::IAM::Role           EcsTaskExecutionRole     -                      \u001b[0m\n",
      "\u001b[32mDELETE_COMPLETE          AWS::EC2::EIP            ElasticIp                -                      \u001b[0m\n",
      "\u001b[32mDELETE_COMPLETE          AWS::EC2::VPC            VPC                      -                      \u001b[0m\n",
      "\u001b[32mDELETE_COMPLETE          AWS::ECS::Cluster        ECSCluster               -                      \u001b[0m\n",
      "\u001b[32mDELETE_COMPLETE          AWS::EC2::InternetGate   InternetGateway          -                      \u001b[0m\n",
      "\u001b[32m                         way                                                                      \u001b[0m\n",
      "\u001b[31mROLLBACK_COMPLETE        AWS::CloudFormation::S   gen-ai-immersion-day-    -                      \u001b[0m\n",
      "\u001b[31m                         tack                     stack                                           \u001b[0m\n",
      "\u001b[33m-------------------------------------------------------------------------------------------------\n",
      "\u001b[0m\n",
      "Error: Failed to create/update the stack: gen-ai-immersion-day-stack, Waiter StackCreateComplete failed: Waiter encountered a terminal failure state: For expression \"Stacks[].StackStatus\" we matched expected path: \"ROLLBACK_COMPLETE\" at least once\n"
     ]
    }
   ],
   "source": [
    "!sam deploy --stack-name gen-ai-immersion-day-stack --resolve-s3 --capabilities CAPABILITY_IAM"
   ]
  },
  {
   "cell_type": "code",
   "execution_count": 147,
   "metadata": {},
   "outputs": [
    {
     "name": "stdout",
     "output_type": "stream",
     "text": [
      "rag-load-balancer-881140808.eu-west-1.elb.amazonaws.com\n"
     ]
    }
   ],
   "source": [
    "!aws elbv2 describe-load-balancers --query 'LoadBalancers[?LoadBalancerName==`rag-load-balancer`].[DNSName]' --output text"
   ]
  },
  {
   "cell_type": "code",
   "execution_count": null,
   "metadata": {},
   "outputs": [],
   "source": []
  }
 ],
 "metadata": {
  "kernelspec": {
   "display_name": ".venv",
   "language": "python",
   "name": "python3"
  },
  "language_info": {
   "codemirror_mode": {
    "name": "ipython",
    "version": 3
   },
   "file_extension": ".py",
   "mimetype": "text/x-python",
   "name": "python",
   "nbconvert_exporter": "python",
   "pygments_lexer": "ipython3",
   "version": "3.10.12"
  },
  "orig_nbformat": 4
 },
 "nbformat": 4,
 "nbformat_minor": 2
}
